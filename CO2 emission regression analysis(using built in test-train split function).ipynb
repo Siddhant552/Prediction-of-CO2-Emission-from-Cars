{
 "cells": [
  {
   "cell_type": "code",
   "execution_count": 1,
   "metadata": {
    "colab": {},
    "colab_type": "code",
    "id": "CVzJq_NyzjOu"
   },
   "outputs": [],
   "source": [
    "import pandas as pd\n",
    "import numpy as np\n",
    "import matplotlib.pyplot as plt\n",
    "import seaborn as sns\n",
    "from sklearn import linear_model, metrics"
   ]
  },
  {
   "cell_type": "markdown",
   "metadata": {
    "colab_type": "text",
    "id": "YuTLy1YMzjPX"
   },
   "source": [
    "# LOADING CSV FILES IN PANDAS DATAFRAME"
   ]
  },
  {
   "cell_type": "code",
   "execution_count": 3,
   "metadata": {
    "colab": {},
    "colab_type": "code",
    "id": "ak9NuHwhzjPa"
   },
   "outputs": [],
   "source": [
    "emission = pd.read_csv('CO2 emission.csv')"
   ]
  },
  {
   "cell_type": "code",
   "execution_count": 4,
   "metadata": {
    "colab": {
     "base_uri": "https://localhost:8080/",
     "height": 275
    },
    "colab_type": "code",
    "executionInfo": {
     "elapsed": 1111,
     "status": "ok",
     "timestamp": 1553919324729,
     "user": {
      "displayName": "Harpreet Singh Sachdev",
      "photoUrl": "https://lh6.googleusercontent.com/-lls5Drakjfk/AAAAAAAAAAI/AAAAAAAAAAA/tQ8bot_hhX0/s64/photo.jpg",
      "userId": "08194772631130095241"
     },
     "user_tz": -330
    },
    "id": "eWG_wLsrzjPg",
    "outputId": "ed6f1fc6-1b04-4c43-d544-f29ca8c0665d"
   },
   "outputs": [
    {
     "data": {
      "text/html": [
       "<div>\n",
       "<style scoped>\n",
       "    .dataframe tbody tr th:only-of-type {\n",
       "        vertical-align: middle;\n",
       "    }\n",
       "\n",
       "    .dataframe tbody tr th {\n",
       "        vertical-align: top;\n",
       "    }\n",
       "\n",
       "    .dataframe thead th {\n",
       "        text-align: right;\n",
       "    }\n",
       "</style>\n",
       "<table border=\"1\" class=\"dataframe\">\n",
       "  <thead>\n",
       "    <tr style=\"text-align: right;\">\n",
       "      <th></th>\n",
       "      <th>MODELYEAR</th>\n",
       "      <th>MAKE</th>\n",
       "      <th>MODEL</th>\n",
       "      <th>VEHICLECLASS</th>\n",
       "      <th>ENGINESIZE</th>\n",
       "      <th>CYLINDERS</th>\n",
       "      <th>TRANSMISSION</th>\n",
       "      <th>FUELTYPE</th>\n",
       "      <th>FUELCONSUMPTION_CITY</th>\n",
       "      <th>FUELCONSUMPTION_HWY</th>\n",
       "      <th>FUELCONSUMPTION_COMB</th>\n",
       "      <th>FUELCONSUMPTION_COMB_MPG</th>\n",
       "      <th>CO2EMISSIONS</th>\n",
       "    </tr>\n",
       "  </thead>\n",
       "  <tbody>\n",
       "    <tr>\n",
       "      <th>0</th>\n",
       "      <td>2014</td>\n",
       "      <td>ACURA</td>\n",
       "      <td>ILX</td>\n",
       "      <td>COMPACT</td>\n",
       "      <td>2.0</td>\n",
       "      <td>4</td>\n",
       "      <td>AS5</td>\n",
       "      <td>Z</td>\n",
       "      <td>9.9</td>\n",
       "      <td>6.7</td>\n",
       "      <td>8.5</td>\n",
       "      <td>33</td>\n",
       "      <td>196</td>\n",
       "    </tr>\n",
       "    <tr>\n",
       "      <th>1</th>\n",
       "      <td>2014</td>\n",
       "      <td>ACURA</td>\n",
       "      <td>ILX</td>\n",
       "      <td>COMPACT</td>\n",
       "      <td>2.4</td>\n",
       "      <td>4</td>\n",
       "      <td>M6</td>\n",
       "      <td>Z</td>\n",
       "      <td>11.2</td>\n",
       "      <td>7.7</td>\n",
       "      <td>9.6</td>\n",
       "      <td>29</td>\n",
       "      <td>221</td>\n",
       "    </tr>\n",
       "    <tr>\n",
       "      <th>2</th>\n",
       "      <td>2014</td>\n",
       "      <td>ACURA</td>\n",
       "      <td>ILX HYBRID</td>\n",
       "      <td>COMPACT</td>\n",
       "      <td>1.5</td>\n",
       "      <td>4</td>\n",
       "      <td>AV7</td>\n",
       "      <td>Z</td>\n",
       "      <td>6.0</td>\n",
       "      <td>5.8</td>\n",
       "      <td>5.9</td>\n",
       "      <td>48</td>\n",
       "      <td>136</td>\n",
       "    </tr>\n",
       "    <tr>\n",
       "      <th>3</th>\n",
       "      <td>2014</td>\n",
       "      <td>ACURA</td>\n",
       "      <td>MDX 4WD</td>\n",
       "      <td>SUV - SMALL</td>\n",
       "      <td>3.5</td>\n",
       "      <td>6</td>\n",
       "      <td>AS6</td>\n",
       "      <td>Z</td>\n",
       "      <td>12.7</td>\n",
       "      <td>9.1</td>\n",
       "      <td>11.1</td>\n",
       "      <td>25</td>\n",
       "      <td>255</td>\n",
       "    </tr>\n",
       "    <tr>\n",
       "      <th>4</th>\n",
       "      <td>2014</td>\n",
       "      <td>ACURA</td>\n",
       "      <td>RDX AWD</td>\n",
       "      <td>SUV - SMALL</td>\n",
       "      <td>3.5</td>\n",
       "      <td>6</td>\n",
       "      <td>AS6</td>\n",
       "      <td>Z</td>\n",
       "      <td>12.1</td>\n",
       "      <td>8.7</td>\n",
       "      <td>10.6</td>\n",
       "      <td>27</td>\n",
       "      <td>244</td>\n",
       "    </tr>\n",
       "  </tbody>\n",
       "</table>\n",
       "</div>"
      ],
      "text/plain": [
       "   MODELYEAR   MAKE       MODEL VEHICLECLASS  ENGINESIZE  CYLINDERS  \\\n",
       "0       2014  ACURA         ILX      COMPACT         2.0          4   \n",
       "1       2014  ACURA         ILX      COMPACT         2.4          4   \n",
       "2       2014  ACURA  ILX HYBRID      COMPACT         1.5          4   \n",
       "3       2014  ACURA     MDX 4WD  SUV - SMALL         3.5          6   \n",
       "4       2014  ACURA     RDX AWD  SUV - SMALL         3.5          6   \n",
       "\n",
       "  TRANSMISSION FUELTYPE  FUELCONSUMPTION_CITY  FUELCONSUMPTION_HWY  \\\n",
       "0          AS5        Z                   9.9                  6.7   \n",
       "1           M6        Z                  11.2                  7.7   \n",
       "2          AV7        Z                   6.0                  5.8   \n",
       "3          AS6        Z                  12.7                  9.1   \n",
       "4          AS6        Z                  12.1                  8.7   \n",
       "\n",
       "   FUELCONSUMPTION_COMB  FUELCONSUMPTION_COMB_MPG  CO2EMISSIONS  \n",
       "0                   8.5                        33           196  \n",
       "1                   9.6                        29           221  \n",
       "2                   5.9                        48           136  \n",
       "3                  11.1                        25           255  \n",
       "4                  10.6                        27           244  "
      ]
     },
     "execution_count": 4,
     "metadata": {},
     "output_type": "execute_result"
    }
   ],
   "source": [
    "emission.head()"
   ]
  },
  {
   "cell_type": "markdown",
   "metadata": {
    "colab_type": "text",
    "id": "hnqyad4-_tZl"
   },
   "source": [
    "YEAR – Year of manufacturing of car.\n",
    "\n",
    "MAKE – Manufacturing company name.\n",
    "\n",
    "VEHICLECLASS – Type of vehicle like SUV or medium sized etc.\n",
    "\n",
    "ENGINESIZE – Size of the car’s engine (expressed in cc or cubic centimetre).\n",
    "\n",
    "CYLINDERS – Number of Cylinders in the engine.\n",
    "\n",
    "TRANSMISSION – Automatic or manual transmission with number of gears.\n",
    "\n",
    "FUELTYPE – It indicates the type of fuel car use i.e. Diesel, Petrol, Z (Unleaded Petrol) etc.\n",
    "\n",
    "FUELCONSUMPTION_CITY – Fuel consumption or Fuel economy of car while running in city\n",
    "expressed in miles per gallon.\n",
    "\n",
    "FUELCONSUMPTION_HWY - Fuel Consumption or Fuel economy of car on highway expressed in\n",
    "miles per gallon.\n",
    "\n",
    "FUELCONSUMPTION_COMB – Net or combination of Fuel Economy expressed in miles per gallon.\n",
    "\n",
    "FUELCONSUMPTION_COMB_MPG – Total fuel economy expressed in miles per gallon.\n",
    "\n",
    "CO2EMISSIONS – The CO 2 emitted by the car expressed in grams."
   ]
  },
  {
   "cell_type": "markdown",
   "metadata": {
    "colab_type": "text",
    "id": "EmQJsq2NzjPq"
   },
   "source": [
    "# SELECTING ONLY NECESSARY COLUMNS\n",
    "\n",
    "As we can see that only ENGINESIZE,CYLINDERS,FUELCONSUMPTION_COMB and CO2EMISSIONS are of our use as CO2 emission quality only depends upon the engine size, number of cylinders and fuel consumption and not on the other parameters like model year,company name and vehicle category."
   ]
  },
  {
   "cell_type": "code",
   "execution_count": 5,
   "metadata": {
    "colab": {},
    "colab_type": "code",
    "id": "Y746thOFzjPs"
   },
   "outputs": [],
   "source": [
    "emission_defined = emission[['ENGINESIZE','CYLINDERS','FUELCONSUMPTION_COMB','CO2EMISSIONS']]"
   ]
  },
  {
   "cell_type": "code",
   "execution_count": 6,
   "metadata": {
    "colab": {},
    "colab_type": "code",
    "id": "rlf1eAmNzjPx",
    "outputId": "7bdb147e-e1da-42d6-f7c5-e64a1687a157"
   },
   "outputs": [
    {
     "data": {
      "text/html": [
       "<div>\n",
       "<style scoped>\n",
       "    .dataframe tbody tr th:only-of-type {\n",
       "        vertical-align: middle;\n",
       "    }\n",
       "\n",
       "    .dataframe tbody tr th {\n",
       "        vertical-align: top;\n",
       "    }\n",
       "\n",
       "    .dataframe thead th {\n",
       "        text-align: right;\n",
       "    }\n",
       "</style>\n",
       "<table border=\"1\" class=\"dataframe\">\n",
       "  <thead>\n",
       "    <tr style=\"text-align: right;\">\n",
       "      <th></th>\n",
       "      <th>ENGINESIZE</th>\n",
       "      <th>CYLINDERS</th>\n",
       "      <th>FUELCONSUMPTION_COMB</th>\n",
       "      <th>CO2EMISSIONS</th>\n",
       "    </tr>\n",
       "  </thead>\n",
       "  <tbody>\n",
       "    <tr>\n",
       "      <th>0</th>\n",
       "      <td>2.0</td>\n",
       "      <td>4</td>\n",
       "      <td>8.5</td>\n",
       "      <td>196</td>\n",
       "    </tr>\n",
       "    <tr>\n",
       "      <th>1</th>\n",
       "      <td>2.4</td>\n",
       "      <td>4</td>\n",
       "      <td>9.6</td>\n",
       "      <td>221</td>\n",
       "    </tr>\n",
       "    <tr>\n",
       "      <th>2</th>\n",
       "      <td>1.5</td>\n",
       "      <td>4</td>\n",
       "      <td>5.9</td>\n",
       "      <td>136</td>\n",
       "    </tr>\n",
       "    <tr>\n",
       "      <th>3</th>\n",
       "      <td>3.5</td>\n",
       "      <td>6</td>\n",
       "      <td>11.1</td>\n",
       "      <td>255</td>\n",
       "    </tr>\n",
       "    <tr>\n",
       "      <th>4</th>\n",
       "      <td>3.5</td>\n",
       "      <td>6</td>\n",
       "      <td>10.6</td>\n",
       "      <td>244</td>\n",
       "    </tr>\n",
       "  </tbody>\n",
       "</table>\n",
       "</div>"
      ],
      "text/plain": [
       "   ENGINESIZE  CYLINDERS  FUELCONSUMPTION_COMB  CO2EMISSIONS\n",
       "0         2.0          4                   8.5           196\n",
       "1         2.4          4                   9.6           221\n",
       "2         1.5          4                   5.9           136\n",
       "3         3.5          6                  11.1           255\n",
       "4         3.5          6                  10.6           244"
      ]
     },
     "execution_count": 6,
     "metadata": {},
     "output_type": "execute_result"
    }
   ],
   "source": [
    "emission_defined.head()"
   ]
  },
  {
   "cell_type": "markdown",
   "metadata": {
    "colab_type": "text",
    "id": "gUqEMgPRzjP4"
   },
   "source": [
    "# PLOTTING HISTOGRAM OF COMPLETE DATAFRAME"
   ]
  },
  {
   "cell_type": "code",
   "execution_count": 7,
   "metadata": {
    "colab": {},
    "colab_type": "code",
    "id": "78QT8W8mzjP6",
    "outputId": "24f3b594-4082-4bde-b443-aafe83105a33"
   },
   "outputs": [
    {
     "data": {
      "text/plain": [
       "<Figure size 864x720 with 0 Axes>"
      ]
     },
     "metadata": {},
     "output_type": "display_data"
    },
    {
     "data": {
      "image/png": "[encoded data removed]",
      "text/plain": [
       "<Figure size 432x288 with 4 Axes>"
      ]
     },
     "metadata": {
      "needs_background": "light"
     },
     "output_type": "display_data"
    }
   ],
   "source": [
    "fig = plt.figure(figsize=(12,10))\n",
    "emission_defined.hist()\n",
    "plt.show()"
   ]
  },
  {
   "cell_type": "markdown",
   "metadata": {
    "colab_type": "text",
    "id": "V-JuM3nEzjQA"
   },
   "source": [
    "# PLOTTING A HEATMAP FOR ALL THE COLUMNS CORRELATION"
   ]
  },
  {
   "cell_type": "code",
   "execution_count": 8,
   "metadata": {
    "colab": {},
    "colab_type": "code",
    "id": "FDHwkeJpzjQC"
   },
   "outputs": [],
   "source": [
    "corr = emission_defined.corr()"
   ]
  },
  {
   "cell_type": "code",
   "execution_count": 9,
   "metadata": {
    "colab": {},
    "colab_type": "code",
    "id": "EN5xVQedzjQH",
    "outputId": "8e3e4d0b-68ad-4b1e-a467-e1020d91485f"
   },
   "outputs": [
    {
     "data": {
      "image/png": "[encoded data removed]",
      "text/plain": [
       "<Figure size 432x288 with 2 Axes>"
      ]
     },
     "metadata": {
      "needs_background": "light"
     },
     "output_type": "display_data"
    }
   ],
   "source": [
    "sns.heatmap(corr, xticklabels=corr.columns,yticklabels=corr.columns)\n",
    "plt.show()"
   ]
  },
  {
   "cell_type": "markdown",
   "metadata": {
    "colab_type": "text",
    "id": "CG-IZko0zjQQ"
   },
   "source": [
    "From the above heatmap it can be seen that all columns hold high level of correlation with another but it can be easily analysed that CO2EMISSIONS is highly correlated to ENGINESIZE,FUELCONSUMPTION_COMB and slightly less with CYLINDERS."
   ]
  },
  {
   "cell_type": "markdown",
   "metadata": {
    "colab_type": "text",
    "id": "y8QWH6pjzjQR"
   },
   "source": [
    "# PLOTTING SCATTERPLOT FOR EACH PARAMETER TAKING CO2EMISSIONS AS DEPENDENT PARAMETER\n",
    "\n",
    "because CO2EMISSIONS only depends upon the vehicle configuration so it will be a dependent variable definitely."
   ]
  },
  {
   "cell_type": "code",
   "execution_count": 10,
   "metadata": {
    "colab": {},
    "colab_type": "code",
    "id": "hjXdrCCNzjQT",
    "outputId": "6d2f63c9-5ee2-4a11-d16f-0d5e12ec7a49"
   },
   "outputs": [
    {
     "data": {
      "image/png": "[encoded data removed]",
      "text/plain": [
       "<Figure size 720x576 with 3 Axes>"
      ]
     },
     "metadata": {
      "needs_background": "light"
     },
     "output_type": "display_data"
    }
   ],
   "source": [
    "fig = plt.figure(figsize=(10,8))\n",
    "a1 = fig.add_subplot(221)\n",
    "a2 = fig.add_subplot(222)\n",
    "a3 = fig.add_subplot(223)\n",
    "sns.scatterplot(x = 'ENGINESIZE', y = 'CO2EMISSIONS', data = emission_defined , ax = a1)\n",
    "sns.scatterplot(x = 'CYLINDERS', y = 'CO2EMISSIONS', data = emission_defined , ax = a2)\n",
    "sns.scatterplot(x = 'FUELCONSUMPTION_COMB', y = 'CO2EMISSIONS', data = emission_defined , ax = a3)\n",
    "plt.show()"
   ]
  },
  {
   "cell_type": "markdown",
   "metadata": {
    "colab_type": "text",
    "id": "BMOB1Zj_zjQa"
   },
   "source": [
    "From above plots we can notice that ENGINESIZE - CO2EMISSIONS and FUELCONSUMPTION_COMB - CO2EMISSIONS are having relationships\n",
    "while CYLINDERS seems to be catgorical variable.\n",
    "\n",
    "Hence, CYLINDERS can't contribute towards Regression."
   ]
  },
  {
   "cell_type": "markdown",
   "metadata": {
    "colab_type": "text",
    "id": "eXxvtNuAzjQb"
   },
   "source": [
    "# Now, we plot lmplot to see regression relationship between ENGINESIZE - CO2EMISSIONS and FUELCONSUMPTION_COMB - CO2EMISSIONS."
   ]
  },
  {
   "cell_type": "code",
   "execution_count": 11,
   "metadata": {
    "colab": {},
    "colab_type": "code",
    "id": "UT0cmCFjzjQd",
    "outputId": "103137cc-cbfe-4818-d5a4-1a46b12af21e"
   },
   "outputs": [
    {
     "data": {
      "image/png": "[encoded data removed]",
      "text/plain": [
       "<Figure size 360x360 with 1 Axes>"
      ]
     },
     "metadata": {
      "needs_background": "light"
     },
     "output_type": "display_data"
    }
   ],
   "source": [
    "sns.lmplot(x = 'FUELCONSUMPTION_COMB' , y = 'CO2EMISSIONS' , data = emission_defined)\n",
    "plt.show()"
   ]
  },
  {
   "cell_type": "code",
   "execution_count": 12,
   "metadata": {
    "colab": {},
    "colab_type": "code",
    "id": "oSHnLPp_zjQs",
    "outputId": "8b6d3e87-154f-443c-cc48-bc3077c1b177"
   },
   "outputs": [
    {
     "data": {
      "image/png": "[encoded data removed]",
      "text/plain": [
       "<Figure size 360x360 with 1 Axes>"
      ]
     },
     "metadata": {
      "needs_background": "light"
     },
     "output_type": "display_data"
    }
   ],
   "source": [
    "sns.lmplot(x = 'ENGINESIZE' , y = 'CO2EMISSIONS' , data = emission_defined)\n",
    "plt.show()"
   ]
  },
  {
   "cell_type": "markdown",
   "metadata": {
    "colab_type": "text",
    "id": "qNefjMcxzjQ1"
   },
   "source": [
    "So, it can be verified from above two lmplots that relationship exists between ENGINESIZE - CO2EMISSIONS and FUELCONSUMPTION_COMB - CO2EMISSIONS."
   ]
  },
  {
   "cell_type": "markdown",
   "metadata": {
    "colab_type": "text",
    "id": "WyUfjNj5zjQ3"
   },
   "source": [
    "#  REGRESSION USING TRAIN  & TEST DATA SETS\n",
    "\n",
    "   ### -  LINEAR REGRESSION "
   ]
  },
  {
   "cell_type": "markdown",
   "metadata": {
    "colab_type": "text",
    "id": "8_u7FGq_zjQ5"
   },
   "source": [
    "Another way of doing Regression is by splitting data into test and train data.For this we use numpy function for generatig random number and if that number is less than 0.8 the index i is added to train_data else it is being added to test_data.\n",
    "The key point to note here is that we are putting 80% data into train_data and rest 20% to test_data."
   ]
  },
  {
   "cell_type": "code",
   "execution_count": 31,
   "metadata": {},
   "outputs": [],
   "source": [
    "from sklearn.model_selection import train_test_split"
   ]
  },
  {
   "cell_type": "code",
   "execution_count": 32,
   "metadata": {},
   "outputs": [],
   "source": [
    "x = emission[['ENGINESIZE']]\n",
    "y = emission['CO2EMISSIONS']\n",
    "train_x , test_x , train_y , test_y = train_test_split(x,y,test_size=0.2)"
   ]
  },
  {
   "cell_type": "markdown",
   "metadata": {
    "colab": {},
    "colab_type": "code",
    "id": "OMT5p8-zzjQ7"
   },
   "source": [
    "    test_data,train_data = list(),list()\n",
    "    for i in range(len(emission_defined)):\n",
    "        if np.random.uniform() < 0.8:\n",
    "            train_data += [i]\n",
    "        else:\n",
    "            test_data += [i]\n",
    "    \n",
    "    train = emission_defined.loc[train_data]\n",
    "    test = emission_defined.loc[test_data]\n",
    "    \n",
    "    train_x = np.asanyarray(train[['ENGINESIZE']])\n",
    "    train_y = np.asanyarray(train[['CO2EMISSIONS']])"
   ]
  },
  {
   "cell_type": "code",
   "execution_count": 33,
   "metadata": {
    "colab": {},
    "colab_type": "code",
    "id": "48RlZojIzjRM"
   },
   "outputs": [],
   "source": [
    "regre = linear_model.LinearRegression()"
   ]
  },
  {
   "cell_type": "code",
   "execution_count": 34,
   "metadata": {
    "colab": {},
    "colab_type": "code",
    "id": "VLH3pZOAzjRa",
    "outputId": "f863f5d0-5662-4038-dc89-b8872d56d8d7"
   },
   "outputs": [
    {
     "data": {
      "text/plain": [
       "LinearRegression(copy_X=True, fit_intercept=True, n_jobs=None, normalize=False)"
      ]
     },
     "execution_count": 34,
     "metadata": {},
     "output_type": "execute_result"
    }
   ],
   "source": [
    "regre.fit(train_x,train_y)"
   ]
  },
  {
   "cell_type": "code",
   "execution_count": 35,
   "metadata": {
    "colab": {},
    "colab_type": "code",
    "id": "lIr3tQAZzjRg",
    "outputId": "9bb36f8b-147b-457d-8176-b5a01f4976a7"
   },
   "outputs": [
    {
     "data": {
      "text/plain": [
       "0.7650838376327082"
      ]
     },
     "execution_count": 35,
     "metadata": {},
     "output_type": "execute_result"
    }
   ],
   "source": [
    "regre.score(train_x,train_y)"
   ]
  },
  {
   "cell_type": "code",
   "execution_count": 36,
   "metadata": {
    "colab": {},
    "colab_type": "code",
    "id": "jv5eDrg0zjRm",
    "outputId": "9036ddd2-714c-4010-cbd1-db72f65af702"
   },
   "outputs": [
    {
     "name": "stdout",
     "output_type": "stream",
     "text": [
      "Coefficient or Slope of regression line is:  39.076356618993955\n",
      "Intercept of regression line is:  125.74042134873744\n"
     ]
    }
   ],
   "source": [
    "print(\"Coefficient or Slope of regression line is: \" , regre.coef_[0])\n",
    "print(\"Intercept of regression line is: \",regre.intercept_)"
   ]
  },
  {
   "cell_type": "code",
   "execution_count": 37,
   "metadata": {
    "colab": {},
    "colab_type": "code",
    "id": "Nd3gYlLkzjRs"
   },
   "outputs": [],
   "source": [
    "predict_y = regre.predict(test_x)"
   ]
  },
  {
   "cell_type": "code",
   "execution_count": 38,
   "metadata": {
    "colab": {},
    "colab_type": "code",
    "id": "8D3NdBnYzjR0",
    "outputId": "1f3aabb5-6e3f-4aca-d964-bdab3a431576"
   },
   "outputs": [
    {
     "data": {
      "image/png": "[encoded data removed]",
      "text/plain": [
       "<Figure size 432x288 with 1 Axes>"
      ]
     },
     "metadata": {
      "needs_background": "light"
     },
     "output_type": "display_data"
    }
   ],
   "source": [
    "plt.scatter(train_x,train_y , color = 'blue')\n",
    "plt.plot(train_x, regre.coef_[0]*train_x + regre.intercept_, '-r')\n",
    "plt.show()"
   ]
  },
  {
   "cell_type": "code",
   "execution_count": 45,
   "metadata": {
    "colab": {},
    "colab_type": "code",
    "id": "3WxQJWgnzjR-",
    "outputId": "6e15e489-0007-4bdb-95f5-72e78c426dc2"
   },
   "outputs": [
    {
     "data": {
      "image/png": "[encoded data removed]",
      "text/plain": [
       "<Figure size 432x288 with 1 Axes>"
      ]
     },
     "metadata": {
      "needs_background": "light"
     },
     "output_type": "display_data"
    }
   ],
   "source": [
    "plt.scatter(test_y,predict_y , color = 'blue')\n",
    "plt.show()"
   ]
  },
  {
   "cell_type": "markdown",
   "metadata": {
    "colab_type": "text",
    "id": "MhUYwowBzjSG"
   },
   "source": [
    "On plotting the model we can conclude that the model is accurate to some extent but the data points are scattered from the linear line as it can be visualised easily from the above plot and plotjust preceding it.\n",
    "\n",
    "We can conclude that it is a good model but can't be used as it has errors.\n",
    "\n",
    "Let's find out the mean squared error using metrics library."
   ]
  },
  {
   "cell_type": "code",
   "execution_count": 40,
   "metadata": {
    "colab": {},
    "colab_type": "code",
    "id": "pcGaSt_hzjSI",
    "outputId": "9471dccb-d74c-4a5f-b1d7-c202d6891f94"
   },
   "outputs": [
    {
     "name": "stdout",
     "output_type": "stream",
     "text": [
      "910.9542677783494\n"
     ]
    }
   ],
   "source": [
    "print(metrics.mean_squared_error(test_y,predict_y))"
   ]
  },
  {
   "cell_type": "markdown",
   "metadata": {
    "colab_type": "text",
    "id": "qHXWcz1jzjST"
   },
   "source": [
    "To get more precise results we plot a multiple regression plot to analyse which model better fits the data."
   ]
  },
  {
   "cell_type": "markdown",
   "metadata": {
    "colab_type": "text",
    "id": "fkgYBaz_zjSV"
   },
   "source": [
    "### - MULTIPLE REGRESSION"
   ]
  },
  {
   "cell_type": "code",
   "execution_count": 23,
   "metadata": {
    "colab": {},
    "colab_type": "code",
    "id": "tzqHKoC6zjSW"
   },
   "outputs": [],
   "source": [
    "multi_regr = linear_model.LinearRegression()"
   ]
  },
  {
   "cell_type": "code",
   "execution_count": 24,
   "metadata": {
    "colab": {},
    "colab_type": "code",
    "id": "BaeEUblLzjSk"
   },
   "outputs": [],
   "source": [
    "X = emission[['ENGINESIZE','FUELCONSUMPTION_COMB']]\n",
    "Train_x , Test_x , Train_y , Test_y = train_test_split(X,y,test_size = 0.2)"
   ]
  },
  {
   "cell_type": "code",
   "execution_count": 25,
   "metadata": {
    "colab": {},
    "colab_type": "code",
    "id": "FGTHazIFzjSv",
    "outputId": "ea0c0032-6172-4c74-89f1-7e792a666301"
   },
   "outputs": [
    {
     "data": {
      "text/plain": [
       "LinearRegression(copy_X=True, fit_intercept=True, n_jobs=None, normalize=False)"
      ]
     },
     "execution_count": 25,
     "metadata": {},
     "output_type": "execute_result"
    }
   ],
   "source": [
    "multi_regr.fit(Train_x,Train_y)"
   ]
  },
  {
   "cell_type": "code",
   "execution_count": 26,
   "metadata": {
    "colab": {},
    "colab_type": "code",
    "id": "OR1I2wuSzjS2",
    "outputId": "4251f4ac-7265-4489-fbff-4c22f532be5f"
   },
   "outputs": [
    {
     "data": {
      "text/plain": [
       "0.8529025261599446"
      ]
     },
     "execution_count": 26,
     "metadata": {},
     "output_type": "execute_result"
    }
   ],
   "source": [
    "multi_regr.score(Train_x,Train_y)"
   ]
  },
  {
   "cell_type": "code",
   "execution_count": 42,
   "metadata": {
    "colab": {},
    "colab_type": "code",
    "id": "x8jsfyh5zjS8",
    "outputId": "3453988d-b280-4cc4-d64f-3febb16bd706"
   },
   "outputs": [
    {
     "name": "stdout",
     "output_type": "stream",
     "text": [
      "Coefficient or Slope of regression line is:  18.845506931544755\n",
      "Intercept of regression line is:  77.16391203272408\n"
     ]
    }
   ],
   "source": [
    "print(\"Coefficient or Slope of regression line is: \" , multi_regr.coef_[0])\n",
    "print(\"Intercept of regression line is: \",multi_regr.intercept_)"
   ]
  },
  {
   "cell_type": "code",
   "execution_count": 28,
   "metadata": {
    "colab": {},
    "colab_type": "code",
    "id": "6E8l7FJbzjTD"
   },
   "outputs": [],
   "source": [
    "predict_Y = multi_regr.predict(Test_x)"
   ]
  },
  {
   "cell_type": "code",
   "execution_count": 29,
   "metadata": {
    "colab": {},
    "colab_type": "code",
    "id": "8z-g3HHxzjTI",
    "outputId": "44de9d67-e419-4636-e447-f5afa6a3bdb8"
   },
   "outputs": [
    {
     "data": {
      "text/plain": [
       "<matplotlib.collections.PathCollection at 0x2a5d1180c88>"
      ]
     },
     "execution_count": 29,
     "metadata": {},
     "output_type": "execute_result"
    },
    {
     "data": {
      "image/png": "[encoded data removed]",
      "text/plain": [
       "<Figure size 432x288 with 1 Axes>"
      ]
     },
     "metadata": {
      "needs_background": "light"
     },
     "output_type": "display_data"
    }
   ],
   "source": [
    "plt.scatter(Test_y,predict_Y , color = 'green')"
   ]
  },
  {
   "cell_type": "markdown",
   "metadata": {
    "colab_type": "text",
    "id": "LX4fVe_DzjTO"
   },
   "source": [
    "On using multiple regression we get p-value as 0.85 which is near to 1  so it can be considered as a good model. Also on plotting curve we find that data points nearly fit to the regression line.\n",
    "\n",
    "To verify we find the mean squared error using metrics library."
   ]
  },
  {
   "cell_type": "code",
   "execution_count": 30,
   "metadata": {
    "colab": {},
    "colab_type": "code",
    "id": "0EsV50NvzjTR",
    "outputId": "787a43ef-9a92-4c74-f73b-d7bee970b823"
   },
   "outputs": [
    {
     "name": "stdout",
     "output_type": "stream",
     "text": [
      "515.3699462879857\n"
     ]
    }
   ],
   "source": [
    "print(metrics.mean_squared_error(Test_y,predict_Y))"
   ]
  },
  {
   "cell_type": "markdown",
   "metadata": {
    "colab_type": "text",
    "id": "ywV66hEbzjTX"
   },
   "source": [
    "On finding the mean square error we notice that multiple regression is best choice to predict values as it has less mean squared error and also have good regression p-value."
   ]
  },
  {
   "cell_type": "code",
   "execution_count": null,
   "metadata": {},
   "outputs": [],
   "source": []
  }
 ],
 "metadata": {
  "colab": {
   "name": "CO2 emission regression analysis.ipynb",
   "provenance": [],
   "version": "0.3.2"
  },
  "kernelspec": {
   "display_name": "Python 3",
   "language": "python",
   "name": "python3"
  },
  "language_info": {
   "codemirror_mode": {
    "name": "ipython",
    "version": 3
   },
   "file_extension": ".py",
   "mimetype": "text/x-python",
   "name": "python",
   "nbconvert_exporter": "python",
   "pygments_lexer": "ipython3",
   "version": "3.7.3"
  }
 },
 "nbformat": 4,
 "nbformat_minor": 1
}
